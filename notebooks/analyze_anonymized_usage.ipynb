{
 "cells": [
  {
   "cell_type": "code",
   "execution_count": null,
   "id": "59feac2a-9ff2-47a2-b900-b98dafa4ad04",
   "metadata": {},
   "outputs": [],
   "source": [
    "import erddaplogs.plot_functions as plot_functions\n",
    "import polars as pl"
   ]
  },
  {
   "cell_type": "code",
   "execution_count": null,
   "id": "72b37f3b-9db3-4351-b33b-16d4ff8b2367",
   "metadata": {},
   "outputs": [],
   "source": [
    "df = pl.read_csv(\"https://erddap.observations.voiceoftheocean.org/erddap/tabledap/requests.csvp\",try_parse_dates=True)\n",
    "df = df.rename({'time (UTC)': 'datetime'})\n",
    "df"
   ]
  },
  {
   "cell_type": "code",
   "execution_count": null,
   "id": "c5124e5d-f8af-4eef-b999-acfe184ef28d",
   "metadata": {},
   "outputs": [],
   "source": [
    "plot_functions.plot_bytes(df)"
   ]
  },
  {
   "cell_type": "code",
   "execution_count": null,
   "id": "9ae62383-4d9f-4bf1-91e5-b56a9d0b85e1",
   "metadata": {},
   "outputs": [],
   "source": [
    "plot_functions.plot_most_popular(df, \"erddap_request_type\");"
   ]
  },
  {
   "cell_type": "code",
   "execution_count": null,
   "id": "6f279371-8976-4c94-b4e8-339b5067e96f",
   "metadata": {},
   "outputs": [],
   "source": [
    "plot_functions.plot_most_popular(df, \"file_type\");"
   ]
  },
  {
   "cell_type": "code",
   "execution_count": null,
   "id": "64ff56d3-3aed-4fd2-973b-ffa70bc4b5ab",
   "metadata": {},
   "outputs": [],
   "source": [
    "plot_functions.plot_most_popular(df, \"dataset_type\");"
   ]
  }
 ],
 "metadata": {
  "kernelspec": {
   "display_name": "Python 3 (ipykernel)",
   "language": "python",
   "name": "python3"
  },
  "language_info": {
   "codemirror_mode": {
    "name": "ipython",
    "version": 3
   },
   "file_extension": ".py",
   "mimetype": "text/x-python",
   "name": "python",
   "nbconvert_exporter": "python",
   "pygments_lexer": "ipython3",
   "version": "3.10.12"
  }
 },
 "nbformat": 4,
 "nbformat_minor": 5
}
