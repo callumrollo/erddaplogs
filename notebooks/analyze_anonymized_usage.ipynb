{
 "cells": [
  {
   "cell_type": "code",
   "execution_count": null,
   "id": "59feac2a-9ff2-47a2-b900-b98dafa4ad04",
   "metadata": {},
   "outputs": [],
   "source": [
    "import erddaplogs.plot_functions as plot_functions\n",
    "import matplotlib.pyplot as plt\n",
    "import polars as pl\n",
    "import numpy as np"
   ]
  },
  {
   "cell_type": "code",
   "execution_count": null,
   "id": "72b37f3b-9db3-4351-b33b-16d4ff8b2367",
   "metadata": {},
   "outputs": [],
   "source": [
    "df = pl.read_csv(\"https://erddap.observations.voiceoftheocean.org/erddap/tabledap/requests.csvp\",try_parse_dates=True)\n",
    "df = df.rename({'time (UTC)': 'datetime'})\n",
    "df"
   ]
  },
  {
   "cell_type": "code",
   "execution_count": null,
   "id": "c5124e5d-f8af-4eef-b999-acfe184ef28d",
   "metadata": {},
   "outputs": [],
   "source": [
    "plot_functions.plot_bytes(df)"
   ]
  },
  {
   "cell_type": "code",
   "execution_count": null,
   "id": "9ae62383-4d9f-4bf1-91e5-b56a9d0b85e1",
   "metadata": {},
   "outputs": [],
   "source": [
    "plot_functions.plot_most_popular(df, \"erddap_request_type\");"
   ]
  },
  {
   "cell_type": "code",
   "execution_count": null,
   "id": "6f279371-8976-4c94-b4e8-339b5067e96f",
   "metadata": {},
   "outputs": [],
   "source": [
    "plot_functions.plot_most_popular(df, \"file_type\");"
   ]
  },
  {
   "cell_type": "code",
   "execution_count": null,
   "id": "64ff56d3-3aed-4fd2-973b-ffa70bc4b5ab",
   "metadata": {},
   "outputs": [],
   "source": [
    "plot_functions.plot_most_popular(df, \"dataset_type\");"
   ]
  },
  {
   "cell_type": "markdown",
   "id": "ace8f413-302f-4e44-bb5b-9875dcc0d78c",
   "metadata": {},
   "source": [
    "### Dig into http status codes\n",
    "\n",
    "succes rate"
   ]
  },
  {
   "cell_type": "code",
   "execution_count": null,
   "id": "f15ea706-594f-45a4-a5fb-aa8f9d17f098",
   "metadata": {},
   "outputs": [],
   "source": [
    "print(f\"Proportion of successful status codes (http 200): {np.round(100 * df.filter(pl.col('status_code')==200).shape[0]/df.shape[0], 1)} %\")"
   ]
  },
  {
   "cell_type": "code",
   "execution_count": null,
   "id": "e13d535a-f703-4275-8999-14b9662f43f3",
   "metadata": {},
   "outputs": [],
   "source": [
    "plot_functions.plot_most_popular(df, \"status_code\");"
   ]
  },
  {
   "cell_type": "markdown",
   "id": "b27d7b8f-4494-4521-a7a0-3e4d2f5a245d",
   "metadata": {},
   "source": [
    "what responses were redirected?"
   ]
  },
  {
   "cell_type": "code",
   "execution_count": null,
   "id": "b57d98ad-4970-45bb-91ef-16ea381bbf9a",
   "metadata": {},
   "outputs": [],
   "source": [
    "df.filter(pl.col(\"status_code\")==301)[\"url\"].to_list()"
   ]
  },
  {
   "cell_type": "markdown",
   "id": "641e2c57-6691-4bdb-8fe6-b62c5257528e",
   "metadata": {},
   "source": [
    "forbidden requests"
   ]
  },
  {
   "cell_type": "code",
   "execution_count": null,
   "id": "abe3a9fe-4753-4e62-9c5e-1c6b1172a783",
   "metadata": {},
   "outputs": [],
   "source": [
    "df.filter(pl.col(\"status_code\")==403)[\"url\"].to_list()"
   ]
  },
  {
   "cell_type": "markdown",
   "id": "5d0ffbcb-c4f5-4b3e-aece-f592c3d9c6ed",
   "metadata": {},
   "source": [
    "## Locations"
   ]
  },
  {
   "cell_type": "code",
   "execution_count": null,
   "id": "6a01f60a-f994-471c-9404-8fe80727f57c",
   "metadata": {},
   "outputs": [],
   "source": [
    "locs = pl.read_csv(\"https://erddap.observations.voiceoftheocean.org/erddap/tabledap/locations.csvp\")\n",
    "locs\n"
   ]
  },
  {
   "cell_type": "code",
   "execution_count": null,
   "id": "21694051-afaa-450c-bd4a-c27e91b99ca5",
   "metadata": {},
   "outputs": [],
   "source": [
    "locs_by_nation = locs.group_by('countryCode').sum().sort('total_requests', descending=True)\n",
    "fig, ax = plt.subplots()\n",
    "ax.barh(\n",
    "    np.arange(len(locs_by_nation)),\n",
    "    locs_by_nation[\"total_requests\"].to_list(),\n",
    "    tick_label=locs_by_nation[\"countryCode\"].to_list(),\n",
    ")\n",
    "ax.set_title(f\"ERDDAP request most common request nations\")\n",
    "ax.invert_yaxis()"
   ]
  }
 ],
 "metadata": {
  "kernelspec": {
   "display_name": "Python 3 (ipykernel)",
   "language": "python",
   "name": "python3"
  },
  "language_info": {
   "codemirror_mode": {
    "name": "ipython",
    "version": 3
   },
   "file_extension": ".py",
   "mimetype": "text/x-python",
   "name": "python",
   "nbconvert_exporter": "python",
   "pygments_lexer": "ipython3",
   "version": "3.10.12"
  }
 },
 "nbformat": 4,
 "nbformat_minor": 5
}
